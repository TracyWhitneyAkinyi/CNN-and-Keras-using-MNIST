{
 "cells": [
  {
   "cell_type": "markdown",
   "id": "6497d051",
   "metadata": {},
   "source": [
    "# Digit recognition"
   ]
  },
  {
   "cell_type": "markdown",
   "id": "77f52ac3",
   "metadata": {},
   "source": [
    " Developers and scientists are diving into machine learning and deep learning techniques,to make machines more intelligent.Take a practical example,a human being learns how to ride a bicycle by repearting it over and over again, so that she memorizes how to ride a bicycle. The neurons in her brain automatically trigger and they can quickly and automatically how to ride a bicycle if she ois given one. This defines **deep learning** . Deep learning  uses different neural network architectures for different types of problems such as image segmentation,object recognition,object detection and image and sound classification.\n",
    " \n",
    "In this project, we are going to implement a digit recognition using the MNIST dataset.We will be using a type of deep neural netork known as *Convolutional Neural Networks* amd know how to create a Keras-based neural network in TensorFlow that processes the MNIST dataset\n",
    "The MNIST dataset contains 60,000 tarining images of handwritten digits from 0 to 9 and 10,000  testing images."
   ]
  },
  {
   "cell_type": "code",
   "execution_count": 37,
   "id": "092e9fb2",
   "metadata": {},
   "outputs": [
    {
     "name": "stdout",
     "output_type": "stream",
     "text": [
      "Model: \"sequential_12\"\n",
      "_________________________________________________________________\n",
      "Layer (type)                 Output Shape              Param #   \n",
      "=================================================================\n",
      "conv2d_24 (Conv2D)           (None, 26, 26, 32)        320       \n",
      "_________________________________________________________________\n",
      "max_pooling2d_16 (MaxPooling (None, 13, 13, 32)        0         \n",
      "_________________________________________________________________\n",
      "conv2d_25 (Conv2D)           (None, 11, 11, 64)        18496     \n",
      "_________________________________________________________________\n",
      "max_pooling2d_17 (MaxPooling (None, 5, 5, 64)          0         \n",
      "_________________________________________________________________\n",
      "conv2d_26 (Conv2D)           (None, 3, 3, 64)          36928     \n",
      "_________________________________________________________________\n",
      "flatten_12 (Flatten)         (None, 576)               0         \n",
      "_________________________________________________________________\n",
      "dense_24 (Dense)             (None, 64)                36928     \n",
      "_________________________________________________________________\n",
      "dense_25 (Dense)             (None, 10)                650       \n",
      "=================================================================\n",
      "Total params: 93,322\n",
      "Trainable params: 93,322\n",
      "Non-trainable params: 0\n",
      "_________________________________________________________________\n",
      "6000/6000 [==============================] - 84s 14ms/step - loss: 0.1167 - accuracy: 0.9636\n"
     ]
    },
    {
     "data": {
      "image/png": "[encoded data removed]",
      "text/plain": [
       "<Figure size 432x288 with 1 Axes>"
      ]
     },
     "metadata": {
      "needs_background": "light"
     },
     "output_type": "display_data"
    },
    {
     "name": "stdout",
     "output_type": "stream",
     "text": [
      "Result: [[3.3952665e-06 5.0980027e-04 9.0646237e-05 6.4166002e-06 9.9907148e-01\n",
      "  2.2110012e-06 9.0065631e-05 1.6856332e-04 2.9679368e-05 2.7772752e-05]]\n",
      "Result.argmax(): 4\n"
     ]
    }
   ],
   "source": [
    "# \n",
    "#import libraries \n",
    "import matplotlib.pyplot as plt\n",
    "import numpy as np\n",
    "import tensorflow as tf\n",
    "import keras\n",
    "\n",
    "# a.)\n",
    "#load the MNIST dataset and split between train and test sets representes as a 28*28 matrix\n",
    "(train_images,train_labels),(test_images,test_labels)=tf.keras.datasets.mnist.load_data()\n",
    "\n",
    "\n",
    "#The MNIST dataset has 60,000 training images and 10,000 testing images\n",
    "train_images=train_images.reshape((60000,28,28,1))\n",
    "test_images=test_images.reshape((10000,28,28,1))\n",
    "\n",
    "# b.)\n",
    "#Normalize pixel values from range of 0-255 to 0-1\n",
    "train_images,test_images=train_images/255.0 ,test_images/255.0\n",
    "\n",
    "model=tf.keras.models.Sequential()\n",
    "model.add(tf.keras.layers.Conv2D(32, (3,3),activation='relu',input_shape=(28,28,1)))\n",
    "model.add(tf.keras.layers.MaxPooling2D((2,2)))\n",
    "model.add(tf.keras.layers.Conv2D(64, (3,3),activation='relu'))\n",
    "model.add(tf.keras.layers.MaxPooling2D((2,2)))\n",
    "model.add(tf.keras.layers.Conv2D(64,(3,3),activation='relu'))\n",
    "model.add(tf.keras.layers.Flatten())\n",
    "model.add(tf.keras.layers.Dense(64, activation='relu'))\n",
    "model.add(tf.keras.layers.Dense(10, activation='softmax'))\n",
    "\n",
    "# C.)\n",
    "model.summary()\n",
    "model.compile(optimizer='adam',loss='sparse_categorical_crossentropy',metrics='accuracy')\n",
    "model.fit(train_images,train_labels,epochs=1,batch_size=10)\n",
    "\n",
    "\n",
    "\n",
    "#predict label of one image\n",
    "test_image=np.expand_dims(test_images[300],axis=0)\n",
    "plt.imshow(test_image.reshape(28,28))\n",
    "plt.show()\n",
    "\n",
    "result=model.predict(test_image)\n",
    "print(\"Result:\",result)\n",
    "print(\"Result.argmax():\",result.argmax())\n"
   ]
  },
  {
   "cell_type": "markdown",
   "id": "ac638bf6",
   "metadata": {},
   "source": [
    "## Documentation.\n",
    "To clearly understand what is taking place we will have a step by step procedure of the codes\n",
    " * a.) **Preprocessing the data** :\n",
    "  *After initializing the training data and labels, as well as the test data and labels, via the **load_data()** function,the images are reshaped so that they are 28x28 images . The dimension of the training data is therefore(60000,28,28).The CNN model will need one more dimension so we reshape the matrix to shape (60000,28,28,1)*\n",
    "  \n",
    " * b.) **Creating the model**:\n",
    "   *Then the pixel values are rescaled from the range 0-255 (all integers) to the range 0-1 (decimal values) .The next portion uses the Keras Sequential() API to define a Keras-based model called **model**, which contains two pairs of Conv2D and MaxPooling2D layers, followed by the Flatten layer, and then two consecutive Dense layers\n",
    " Generally,CNN models consist of convolutional and pooling layers. The dropout layer is used to deactivate some neurons and while training it reduces overfitting of the model*.\n",
    " \n",
    " * c.) **Train the model**:\n",
    "  *The model is compiled, trained, and evaluated via the compile(),fit(), and evaluate() methods, The model.fit() function in Keras, will start training the model.It takes into account the training data,epochs and batch size.*\n",
    " \n",
    " * d.) **Prediction**:\n",
    "  *The final part successfully predicts the image whose label is 4, which is then displayed via *matplotlib**"
   ]
  },
  {
   "cell_type": "code",
   "execution_count": null,
   "id": "89df181b",
   "metadata": {},
   "outputs": [],
   "source": []
  }
 ],
 "metadata": {
  "kernelspec": {
   "display_name": "Python 3 (ipykernel)",
   "language": "python",
   "name": "python3"
  },
  "language_info": {
   "codemirror_mode": {
    "name": "ipython",
    "version": 3
   },
   "file_extension": ".py",
   "mimetype": "text/x-python",
   "name": "python",
   "nbconvert_exporter": "python",
   "pygments_lexer": "ipython3",
   "version": "3.8.3"
  }
 },
 "nbformat": 4,
 "nbformat_minor": 5
}
